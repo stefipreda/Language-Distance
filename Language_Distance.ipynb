{
  "nbformat": 4,
  "nbformat_minor": 0,
  "metadata": {
    "colab": {
      "provenance": [],
      "authorship_tag": "ABX9TyOcZVU+S9oerWv296fpppoO",
      "include_colab_link": true
    },
    "kernelspec": {
      "name": "python3",
      "display_name": "Python 3"
    },
    "language_info": {
      "name": "python"
    }
  },
  "cells": [
    {
      "cell_type": "markdown",
      "metadata": {
        "id": "view-in-github",
        "colab_type": "text"
      },
      "source": [
        "<a href=\"https://colab.research.google.com/github/stefipreda/Language-Distance/blob/main/Language_Distance.ipynb\" target=\"_parent\"><img src=\"https://colab.research.google.com/assets/colab-badge.svg\" alt=\"Open In Colab\"/></a>"
      ]
    },
    {
      "cell_type": "code",
      "execution_count": 2,
      "metadata": {
        "colab": {
          "base_uri": "https://localhost:8080/"
        },
        "id": "zbmWRmjtnYTu",
        "outputId": "535d5589-99f1-4482-95c7-7663e9e521ba"
      },
      "outputs": [
        {
          "output_type": "stream",
          "name": "stdout",
          "text": [
            "Looking in indexes: https://pypi.org/simple, https://us-python.pkg.dev/colab-wheels/public/simple/\n",
            "Collecting lang2vec\n",
            "  Downloading lang2vec-1.1.2-py3-none-any.whl (10.2 MB)\n",
            "\u001b[K     |████████████████████████████████| 10.2 MB 5.0 MB/s \n",
            "\u001b[?25hRequirement already satisfied: setuptools in /usr/local/lib/python3.7/dist-packages (from lang2vec) (57.4.0)\n",
            "Requirement already satisfied: numpy in /usr/local/lib/python3.7/dist-packages (from lang2vec) (1.21.6)\n",
            "Installing collected packages: lang2vec\n",
            "Successfully installed lang2vec-1.1.2\n"
          ]
        }
      ],
      "source": [
        "!pip3 install lang2vec\n",
        "!pip install pycountry"
      ]
    },
    {
      "cell_type": "code",
      "source": [
        "import lang2vec.lang2vec as l2v\n",
        "import numpy as np\n",
        "from numpy.linalg import norm\n",
        "import networkx as nx\n",
        "import string\n",
        "import seaborn as sns\n",
        "import pycountry"
      ],
      "metadata": {
        "id": "Lmcigh15nxk7"
      },
      "execution_count": 44,
      "outputs": []
    },
    {
      "cell_type": "code",
      "source": [
        "def normalize_language(language: str) -> str:\n",
        "    try:\n",
        "        lookup = pycountry.languages.lookup(language)\n",
        "        try:\n",
        "            return lookup.alpha_3\n",
        "        except AttributeError:\n",
        "            return None\n",
        "    except LookupError:\n",
        "        return None"
      ],
      "metadata": {
        "id": "sA0avoJ4bOry"
      },
      "execution_count": 75,
      "outputs": []
    },
    {
      "cell_type": "code",
      "source": [
        "languages_names_eu = [\"Bulgarian\", \"Croatian\", \"Czech\", \"Danish\", \"Dutch\", \"English\", \"Estonian\", \"Finnish\", \"French\", \"German\", \"Greek\", \"Hungarian\", \"Irish\", \"Italian\", \"Latvian\", \"Lithuanian\", \"Maltese\", \"Polish\", \"Portuguese\", \"Romanian\", \"Slovak\", \"Slovenian\", \"Spanish\", \"Swedish\"]"
      ],
      "metadata": {
        "id": "TGMvLNMzcIfe"
      },
      "execution_count": 83,
      "outputs": []
    },
    {
      "cell_type": "code",
      "source": [
        "languages = [normalize_language(lang) for lang in languages_names_eu]"
      ],
      "metadata": {
        "id": "iOfxSmIYZpa-"
      },
      "execution_count": 84,
      "outputs": []
    },
    {
      "cell_type": "code",
      "source": [
        "print(languages)"
      ],
      "metadata": {
        "colab": {
          "base_uri": "https://localhost:8080/"
        },
        "id": "9tP56fsDd5tb",
        "outputId": "6a078fea-1dfb-4105-f823-e3bfdef2e86b"
      },
      "execution_count": 89,
      "outputs": [
        {
          "output_type": "stream",
          "name": "stdout",
          "text": [
            "['bul', 'hrv', 'ces', 'dan', 'nld', 'eng', 'est', 'fin', 'fra', 'deu', None, 'hun', 'gle', 'ita', 'lav', 'lit', 'mlt', 'pol', 'por', 'ron', 'slk', 'slv', 'spa', 'swe']\n"
          ]
        }
      ]
    },
    {
      "cell_type": "code",
      "source": [
        "languages = ['bul', 'hrv', 'ces', 'dan', 'nld', 'eng', 'est', 'fin', 'fra', 'deu', 'ell', 'hun', 'gle', 'ita', 'lav', 'lit', 'mlt', 'pol', 'por', 'ron', 'slk', 'slv', 'spa', 'swe']"
      ],
      "metadata": {
        "id": "XzmLoXNPeMnb"
      },
      "execution_count": 90,
      "outputs": []
    },
    {
      "cell_type": "markdown",
      "source": [
        "Family, syntactic and phonological features"
      ],
      "metadata": {
        "id": "Oivn2RBqoAHv"
      }
    },
    {
      "cell_type": "code",
      "source": [
        "fam_features = l2v.get_features(languages, 'fam', header=True)"
      ],
      "metadata": {
        "id": "gATYdKH7oHf_"
      },
      "execution_count": 91,
      "outputs": []
    },
    {
      "cell_type": "code",
      "source": [
        "syntax_features = l2v.get_features(languages, 'syntax_knn', header=True)"
      ],
      "metadata": {
        "id": "R8jlxU6CoTUh"
      },
      "execution_count": 92,
      "outputs": []
    },
    {
      "cell_type": "code",
      "source": [
        "phonology_features = l2v.get_features(languages, 'phonology_knn', header=True)"
      ],
      "metadata": {
        "id": "lfJk5j-6oUNM"
      },
      "execution_count": 93,
      "outputs": []
    },
    {
      "cell_type": "markdown",
      "source": [
        "Distance Matrix based on each feature"
      ],
      "metadata": {
        "id": "vEwTVQCLo_an"
      }
    },
    {
      "cell_type": "code",
      "source": [
        "def feature_distance(a, b):\n",
        "  return 1 - np.dot(a, b)/(norm(a)*norm(b))"
      ],
      "metadata": {
        "id": "-VBTEYWkG_z_"
      },
      "execution_count": 34,
      "outputs": []
    },
    {
      "cell_type": "markdown",
      "source": [
        "Phylogenetic distance matrix"
      ],
      "metadata": {
        "id": "UwjK8mfimHbC"
      }
    },
    {
      "cell_type": "code",
      "source": [
        "fam_matrix = np.zeros((len(languages), len(languages)))\n",
        "for i, l1 in enumerate(languages):\n",
        "  for j, l2 in enumerate(languages):\n",
        "    fam_matrix[i][j] = feature_distance(fam_features[l1], fam_features[l2])"
      ],
      "metadata": {
        "id": "7jiTzHgvHXf_"
      },
      "execution_count": 94,
      "outputs": []
    },
    {
      "cell_type": "code",
      "source": [
        "ax = sns.heatmap(fam_matrix)"
      ],
      "metadata": {
        "colab": {
          "base_uri": "https://localhost:8080/",
          "height": 272
        },
        "id": "kXiI8-JHJMjK",
        "outputId": "ca0c06d7-7f6c-4c1d-98ec-3cdcf6b924ff"
      },
      "execution_count": 97,
      "outputs": [
        {
          "output_type": "display_data",
          "data": {
            "text/plain": [
              "<Figure size 432x288 with 2 Axes>"
            ],
            "image/png": "[encoded data removed]"
          },
          "metadata": {
            "needs_background": "light"
          }
        }
      ]
    },
    {
      "cell_type": "markdown",
      "source": [
        "Syntactic distance matrix"
      ],
      "metadata": {
        "id": "Xi6G0hCemNte"
      }
    },
    {
      "cell_type": "code",
      "source": [
        "syntax_matrix = np.zeros((len(languages), len(languages)))\n",
        "for i, l1 in enumerate(languages):\n",
        "  for j, l2 in enumerate(languages):\n",
        "    syntax_matrix[i][j] = feature_distance(syntax_features[l1], syntax_features[l2])"
      ],
      "metadata": {
        "id": "TF3aNqL4GOK_"
      },
      "execution_count": 95,
      "outputs": []
    },
    {
      "cell_type": "code",
      "source": [
        "ax = sns.heatmap(syntax_matrix)"
      ],
      "metadata": {
        "colab": {
          "base_uri": "https://localhost:8080/",
          "height": 268
        },
        "id": "k6G5cBb0mXDx",
        "outputId": "4b10f396-0ac3-4861-dbee-5db6c89aa47d"
      },
      "execution_count": 152,
      "outputs": [
        {
          "output_type": "display_data",
          "data": {
            "text/plain": [
              "<Figure size 432x288 with 2 Axes>"
            ],
            "image/png": "[encoded data removed]"
          },
          "metadata": {
            "needs_background": "light"
          }
        }
      ]
    },
    {
      "cell_type": "markdown",
      "source": [
        "Phonology distance matrix"
      ],
      "metadata": {
        "id": "ws21Tj7VmQ0L"
      }
    },
    {
      "cell_type": "code",
      "source": [
        "phonology_matrix = np.zeros((len(languages), len(languages)))\n",
        "for i, l1 in enumerate(languages):\n",
        "  for j, l2 in enumerate(languages):\n",
        "    phonology_matrix[i][j] = feature_distance(phonology_features[l1], phonology_features[l2])"
      ],
      "metadata": {
        "id": "mwZPCRRKGWMm"
      },
      "execution_count": 96,
      "outputs": []
    },
    {
      "cell_type": "code",
      "source": [
        "ax = sns.heatmap(phonology_matrix)"
      ],
      "metadata": {
        "colab": {
          "base_uri": "https://localhost:8080/",
          "height": 268
        },
        "id": "tuawkW5Hmavg",
        "outputId": "a4e57a8c-6460-455f-9d26-4372ec14a77f"
      },
      "execution_count": 153,
      "outputs": [
        {
          "output_type": "display_data",
          "data": {
            "text/plain": [
              "<Figure size 432x288 with 2 Axes>"
            ],
            "image/png": "[encoded data removed]"
          },
          "metadata": {
            "needs_background": "light"
          }
        }
      ]
    },
    {
      "cell_type": "markdown",
      "source": [
        "Visualise the languages as a graph based on distance matrix"
      ],
      "metadata": {
        "id": "WQLvpYuHpY5m"
      }
    },
    {
      "cell_type": "code",
      "source": [
        "def visualise_graph(dist_matrix, labels, threshold):\n",
        "  G = nx.Graph()\n",
        "  edge_list = [(label1, label2, 5*dist_matrix[i][j]) for i, label1 in enumerate(labels) for j, label2 in enumerate(labels) if j > i if dist_matrix[i][j] < threshold]\n",
        "  G.add_weighted_edges_from(edge_list)\n",
        "  print(G)\n",
        "  nx.draw_networkx(G, with_labels=True)"
      ],
      "metadata": {
        "id": "A7uxfCyuqYUN"
      },
      "execution_count": 154,
      "outputs": []
    },
    {
      "cell_type": "code",
      "source": [
        "visualise_graph(fam_matrix, languages, threshold=0.8)"
      ],
      "metadata": {
        "colab": {
          "base_uri": "https://localhost:8080/",
          "height": 265
        },
        "id": "Gx3yXoj0k0dH",
        "outputId": "0644f3e4-c8e4-4be5-bb84-3eac137bdfb6"
      },
      "execution_count": 157,
      "outputs": [
        {
          "output_type": "stream",
          "name": "stdout",
          "text": [
            "Graph with 23 nodes and 63 edges\n"
          ]
        },
        {
          "output_type": "display_data",
          "data": {
            "text/plain": [
              "<Figure size 432x288 with 1 Axes>"
            ],
            "image/png": "[encoded data removed]"
          },
          "metadata": {}
        }
      ]
    },
    {
      "cell_type": "markdown",
      "source": [
        "Groups identified: Uralic vs Indo-European"
      ],
      "metadata": {
        "id": "Zgll8Fo_mmH0"
      }
    },
    {
      "cell_type": "code",
      "source": [
        "visualise_graph(fam_matrix, languages, threshold=0.5)"
      ],
      "metadata": {
        "colab": {
          "base_uri": "https://localhost:8080/",
          "height": 265
        },
        "id": "4n9QmPcGlnaD",
        "outputId": "85322445-ef33-45a8-9137-00a47b5ad6a8"
      },
      "execution_count": 158,
      "outputs": [
        {
          "output_type": "stream",
          "name": "stdout",
          "text": [
            "Graph with 21 nodes and 39 edges\n"
          ]
        },
        {
          "output_type": "display_data",
          "data": {
            "text/plain": [
              "<Figure size 432x288 with 1 Axes>"
            ],
            "image/png": "[encoded data removed]"
          },
          "metadata": {}
        }
      ]
    },
    {
      "cell_type": "markdown",
      "source": [
        "Groups identified: Germanic, Latin, Slavic (all Indo-European), Uralic"
      ],
      "metadata": {
        "id": "UplY_xKAm6ST"
      }
    },
    {
      "cell_type": "code",
      "source": [
        "visualise_graph(fam_matrix, languages, threshold=0.3)"
      ],
      "metadata": {
        "colab": {
          "base_uri": "https://localhost:8080/",
          "height": 265
        },
        "id": "Kp46Lm5Dlt91",
        "outputId": "4545b363-8f88-4bc4-ef35-b86213af2d49"
      },
      "execution_count": 159,
      "outputs": [
        {
          "output_type": "stream",
          "name": "stdout",
          "text": [
            "Graph with 18 nodes and 14 edges\n"
          ]
        },
        {
          "output_type": "display_data",
          "data": {
            "text/plain": [
              "<Figure size 432x288 with 1 Axes>"
            ],
            "image/png": "[encoded data removed]"
          },
          "metadata": {}
        }
      ]
    },
    {
      "cell_type": "code",
      "source": [
        "visualise_graph(fam_matrix, languages, threshold=0.1)"
      ],
      "metadata": {
        "colab": {
          "base_uri": "https://localhost:8080/",
          "height": 265
        },
        "id": "M4DXU3Rxl0uR",
        "outputId": "6c42f583-5853-4145-e3d6-f8d0beb8ce9a"
      },
      "execution_count": 162,
      "outputs": [
        {
          "output_type": "stream",
          "name": "stdout",
          "text": [
            "Graph with 6 nodes and 3 edges\n"
          ]
        },
        {
          "output_type": "display_data",
          "data": {
            "text/plain": [
              "<Figure size 432x288 with 1 Axes>"
            ],
            "image/png": "[encoded data removed]"
          },
          "metadata": {}
        }
      ]
    },
    {
      "cell_type": "markdown",
      "source": [
        "The closest pairs of languages: Spanish-Portuguese, Czech-Slovakian, Latvian-Lithuanian"
      ],
      "metadata": {
        "id": "RIWL6QzfnGym"
      }
    }
  ]
}